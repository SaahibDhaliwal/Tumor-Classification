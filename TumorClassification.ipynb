{
 "cells": [
  {
   "cell_type": "code",
   "execution_count": 749,
   "id": "63bf7be6-ecda-4533-a37d-bf1555a23bb3",
   "metadata": {},
   "outputs": [],
   "source": [
    "import tensorflow as tf\n",
    "import tensorflow_datasets as tfds\n",
    "\n",
    "from tensorflow import keras"
   ]
  },
  {
   "cell_type": "code",
   "execution_count": 750,
   "id": "8c28b2d7-fb10-4370-a937-274548d1e312",
   "metadata": {},
   "outputs": [],
   "source": [
    "import numpy as np\n",
    "from matplotlib import pyplot as plt\n",
    "import os\n",
    "import math\n",
    "import cv2\n",
    "import imghdr\n",
    "from tensorflow.keras.models import Sequential\n",
    "from tensorflow.keras.layers import Conv2D, MaxPooling2D, Dense, Flatten, Dropout, BatchNormalization\n",
    "from tensorflow.keras.models import load_model"
   ]
  },
  {
   "cell_type": "code",
   "execution_count": null,
   "id": "937cedcc-abc4-4301-9cdd-ce891a2649c9",
   "metadata": {},
   "outputs": [],
   "source": [
    "# Preprocess data"
   ]
  },
  {
   "cell_type": "code",
   "execution_count": null,
   "id": "c1872700-9fb1-4479-a5a6-2472834a8c13",
   "metadata": {},
   "outputs": [],
   "source": [
    "data_loc = 'tumor_data'"
   ]
  },
  {
   "cell_type": "code",
   "execution_count": null,
   "id": "9a1747d9-6f12-40c0-8d7f-c5e83a47b5c4",
   "metadata": {},
   "outputs": [],
   "source": [
    "dir_list = os.listdir(data_loc)"
   ]
  },
  {
   "cell_type": "code",
   "execution_count": null,
   "id": "5b1bda1f-283b-4582-bee6-8735d83c5436",
   "metadata": {},
   "outputs": [],
   "source": [
    "extension_list = ['jpeg', 'jpg', 'bmp', 'png']"
   ]
  },
  {
   "cell_type": "code",
   "execution_count": null,
   "id": "cbd0209a-e8a7-41e4-a7cf-92533bcc4e12",
   "metadata": {},
   "outputs": [],
   "source": [
    "for image_file in dir_list:\n",
    "        for image in os.listdir(os.path.join(data_loc, image_file)):\n",
    "            image_path = os.path.join (data_loc, image_file, image)\n",
    "            try:\n",
    "                img = cv2.imread(image_path)\n",
    "                extension = imghdr.what(image_path)\n",
    "                if extension not in extension_list:\n",
    "                    os.remove(image_path)\n",
    "            except Exception as e:\n",
    "                print(\"Image issue\")"
   ]
  },
  {
   "cell_type": "code",
   "execution_count": null,
   "id": "e9dd6238-db04-4a37-9a18-d5692618eaa5",
   "metadata": {},
   "outputs": [],
   "source": [
    "# Set the data"
   ]
  },
  {
   "cell_type": "code",
   "execution_count": null,
   "id": "26db71d7-028e-4445-a55b-de48bfe3b09a",
   "metadata": {},
   "outputs": [
    {
     "name": "stdout",
     "output_type": "stream",
     "text": [
      "Found 2870 files belonging to 4 classes.\n"
     ]
    }
   ],
   "source": [
    "data = tf.keras.utils.image_dataset_from_directory(data_loc, labels='inferred')"
   ]
  },
  {
   "cell_type": "code",
   "execution_count": null,
   "id": "50cd4d70-0432-498e-a577-58900a8fed8e",
   "metadata": {},
   "outputs": [],
   "source": [
    "data_iterator = data.as_numpy_iterator()"
   ]
  },
  {
   "cell_type": "code",
   "execution_count": null,
   "id": "15eee3a2-76e9-45c2-8e98-bebc2e8a148a",
   "metadata": {},
   "outputs": [],
   "source": [
    "batch = data_iterator.next()"
   ]
  },
  {
   "cell_type": "code",
   "execution_count": null,
   "id": "7458df3a-1ca5-4704-95e9-5acd6e8cbd6e",
   "metadata": {},
   "outputs": [],
   "source": [
    "# corresponding class to tumor type\n",
    "# Class 0 is giloma tumor\n",
    "# Class 1 is meningioma tumor\n",
    "# Class 2 is no tumor\n",
    "# Class 3 is pituitary tumor\n"
   ]
  },
  {
   "cell_type": "code",
   "execution_count": null,
   "id": "e4886746-c8da-41b8-ac06-cbf5c90f757c",
   "metadata": {},
   "outputs": [],
   "source": [
    "# Scale data"
   ]
  },
  {
   "cell_type": "code",
   "execution_count": null,
   "id": "c06465fd-890b-4d42-a60e-a77291adb277",
   "metadata": {},
   "outputs": [],
   "source": [
    "data = data.map(lambda x, y: (x/255, y))"
   ]
  },
  {
   "cell_type": "code",
   "execution_count": null,
   "id": "7b7009cd-4cb4-4f0c-b6b4-8d0e45348dd4",
   "metadata": {},
   "outputs": [],
   "source": [
    "data_iterator = data.as_numpy_iterator()"
   ]
  },
  {
   "cell_type": "code",
   "execution_count": null,
   "id": "daf9cc90-8d73-467f-9796-8f8263c91592",
   "metadata": {},
   "outputs": [],
   "source": [
    "# Split data into training set, validation set, and testig set"
   ]
  },
  {
   "cell_type": "code",
   "execution_count": null,
   "id": "bf22a640-01f4-4e42-a678-2240ed8e8a86",
   "metadata": {},
   "outputs": [],
   "source": [
    "train_size = 60;\n",
    "validate_size = 20;\n",
    "test_size = 10;"
   ]
  },
  {
   "cell_type": "code",
   "execution_count": null,
   "id": "642b427f-6221-4ba0-b60c-d9a497355786",
   "metadata": {},
   "outputs": [],
   "source": [
    "train = data.take(train_size)\n",
    "validation = data.skip(train_size).take(validate_size)\n",
    "test = data.skip(train_size + validate_size).take(test_size)"
   ]
  },
  {
   "cell_type": "code",
   "execution_count": null,
   "id": "fc137f80-9047-499d-a6d3-5b22d1bcbf1e",
   "metadata": {},
   "outputs": [],
   "source": [
    "# Develop the Convolutional Neural Network"
   ]
  },
  {
   "cell_type": "code",
   "execution_count": null,
   "id": "ad8f5a75-7541-46ac-a2b6-51032888570b",
   "metadata": {},
   "outputs": [],
   "source": [
    "model = Sequential()\n",
    "model.add(Conv2D(16, (3,3), 1, activation = 'relu', input_shape = (256,256,3)))\n",
    "model.add(MaxPooling2D())"
   ]
  },
  {
   "cell_type": "code",
   "execution_count": null,
   "id": "07498bff-cf48-4ccb-a217-6cbab1ff543a",
   "metadata": {},
   "outputs": [],
   "source": [
    "model.add(Conv2D(32, (3,3), 1, activation = 'relu'))\n",
    "model.add(MaxPooling2D())"
   ]
  },
  {
   "cell_type": "code",
   "execution_count": null,
   "id": "8634dd31-71ef-4365-a54a-9694cd7e60a3",
   "metadata": {},
   "outputs": [],
   "source": [
    "model.add(Conv2D(64, (3,3), 1, activation = 'relu'))\n",
    "model.add(MaxPooling2D())"
   ]
  },
  {
   "cell_type": "code",
   "execution_count": null,
   "id": "1bb64588-be33-4f89-ba11-bf5123cad319",
   "metadata": {},
   "outputs": [],
   "source": [
    "model.add(Conv2D(128, (3,3), 1, activation = 'relu'))\n",
    "model.add(MaxPooling2D())"
   ]
  },
  {
   "cell_type": "code",
   "execution_count": null,
   "id": "4ade5f24-385d-4677-99f0-9160c4d344f5",
   "metadata": {},
   "outputs": [],
   "source": [
    "model.add(Dropout(0.2))"
   ]
  },
  {
   "cell_type": "code",
   "execution_count": null,
   "id": "a69b6697-1e3a-418c-9ab4-99902049f816",
   "metadata": {},
   "outputs": [],
   "source": [
    "model.add(Flatten())"
   ]
  },
  {
   "cell_type": "code",
   "execution_count": null,
   "id": "fcea25d5-f63e-47c5-bb65-3603f28671ab",
   "metadata": {},
   "outputs": [],
   "source": [
    "model.add(Dense(units=128, activation = 'relu'))\n",
    "model.add(Dropout(0.2))"
   ]
  },
  {
   "cell_type": "code",
   "execution_count": null,
   "id": "1fb8f04a-3d96-4393-b242-c1a73659885c",
   "metadata": {},
   "outputs": [],
   "source": [
    "model.add(Dense(4, activation='softmax'))"
   ]
  },
  {
   "cell_type": "code",
   "execution_count": 775,
   "id": "38a1b4ed-5654-4387-81f2-8df9b1fefb25",
   "metadata": {},
   "outputs": [],
   "source": [
    "model.summary()"
   ]
  },
  {
   "cell_type": "code",
   "execution_count": null,
   "id": "befbf421-5c1d-460f-a060-0ca9e81f3d43",
   "metadata": {},
   "outputs": [],
   "source": [
    "model.compile(optimizer=\"adam\", loss=\"sparse_categorical_crossentropy\", metrics=[\"accuracy\"])"
   ]
  },
  {
   "cell_type": "code",
   "execution_count": 798,
   "id": "77a579ff-7598-43c5-b688-75aab395dbab",
   "metadata": {},
   "outputs": [],
   "source": [
    "# Create logs for training history"
   ]
  },
  {
   "cell_type": "code",
   "execution_count": null,
   "id": "ae205d4e-e7c8-4b0e-977b-93513aa5402d",
   "metadata": {},
   "outputs": [],
   "source": [
    "logdir = 'logs'\n",
    "tensor_callback = tf.keras.callbacks.TensorBoard(log_dir=logdir)"
   ]
  },
  {
   "cell_type": "code",
   "execution_count": 778,
   "id": "89d7db2e-f728-4d87-9d54-ca34f06c821d",
   "metadata": {},
   "outputs": [],
   "source": [
    "history = model.fit(train, epochs=10, validation_data=validation, callbacks=[tensor_callback])"
   ]
  },
  {
   "cell_type": "code",
   "execution_count": 820,
   "id": "a0e05931-1f25-4061-bb2f-5def117b51a3",
   "metadata": {},
   "outputs": [
    {
     "data": {
      "text/plain": [
       "{'loss': [1.0702842473983765,\n",
       "  0.7365957498550415,\n",
       "  0.5654796957969666,\n",
       "  0.4507959187030792,\n",
       "  0.3400541841983795,\n",
       "  0.24461619555950165,\n",
       "  0.18073759973049164,\n",
       "  0.15900681912899017,\n",
       "  0.11764902621507645,\n",
       "  0.09617701917886734],\n",
       " 'accuracy': [0.5375000238418579,\n",
       "  0.6963541507720947,\n",
       "  0.7807291746139526,\n",
       "  0.828125,\n",
       "  0.8682291507720947,\n",
       "  0.9098958373069763,\n",
       "  0.9354166388511658,\n",
       "  0.9401041865348816,\n",
       "  0.9552083611488342,\n",
       "  0.9651041626930237],\n",
       " 'val_loss': [0.7109113931655884,\n",
       "  0.6050018072128296,\n",
       "  0.5777837038040161,\n",
       "  0.46538838744163513,\n",
       "  0.32954996824264526,\n",
       "  0.3093368411064148,\n",
       "  0.2838912010192871,\n",
       "  0.4219532907009125,\n",
       "  0.27743151783943176,\n",
       "  0.3331875801086426],\n",
       " 'val_accuracy': [0.676562488079071,\n",
       "  0.7484375238418579,\n",
       "  0.746874988079071,\n",
       "  0.7984374761581421,\n",
       "  0.8765624761581421,\n",
       "  0.887499988079071,\n",
       "  0.9203125238418579,\n",
       "  0.864062488079071,\n",
       "  0.9140625,\n",
       "  0.910937488079071]}"
      ]
     },
     "execution_count": 820,
     "metadata": {},
     "output_type": "execute_result"
    }
   ],
   "source": [
    "# View model history\n",
    "history.history"
   ]
  },
  {
   "cell_type": "code",
   "execution_count": 821,
   "id": "074ca9b1-a037-462c-bbd7-6ecd3690fa0c",
   "metadata": {},
   "outputs": [],
   "source": [
    "# Save the model"
   ]
  },
  {
   "cell_type": "code",
   "execution_count": 816,
   "id": "4c573ece-1d82-4472-af62-8ae91f3d902a",
   "metadata": {},
   "outputs": [],
   "source": [
    "model.save(os.path.join('models', 'tumorclassificationv2.h5'))"
   ]
  },
  {
   "cell_type": "code",
   "execution_count": 822,
   "id": "c441533f-4ad8-4bc7-bbb5-10bf4adcaecd",
   "metadata": {},
   "outputs": [],
   "source": [
    "# Load the model"
   ]
  },
  {
   "cell_type": "code",
   "execution_count": 815,
   "id": "fe7d5087-ed08-433b-9144-907e2571b3ce",
   "metadata": {},
   "outputs": [],
   "source": [
    "new_model = load_model(os.path.join('models', 'tumorclassification.h5'))"
   ]
  },
  {
   "cell_type": "code",
   "execution_count": 824,
   "id": "1133c45f-2bc5-4d44-bd26-dcd1b67b586e",
   "metadata": {},
   "outputs": [],
   "source": [
    "# Create a testing loop to test all the images from my testing folder"
   ]
  },
  {
   "cell_type": "code",
   "execution_count": 823,
   "id": "f804027f-b12b-4775-a133-9f665cc9ebbb",
   "metadata": {},
   "outputs": [],
   "source": [
    "def testing_loop ():\n",
    "    test_loc = \"Testing\"\n",
    "    file_name = \"glioma_tumor\"\n",
    "    \n",
    "    for image in os.listdir(os.path.join(test_loc, file_name)):\n",
    "        image_path = os.path.join (test_loc, file_name, image)\n",
    "        try:\n",
    "            test_img = cv2.imread(image_path)\n",
    "            resize_test = tf.image.resize(test_img, (256, 256))\n",
    "            plt.imshow(resize_test.numpy().astype(int))\n",
    "            plt.show()\n",
    "            prediction =  np.argmax(new_model.predict(np.expand_dims(resize_test/255,0)))\n",
    "            if prediction == 0:\n",
    "                 print(\"This is a glioma tumor\")\n",
    "            elif prediction == 1:\n",
    "                 print(\"This is a meningioma tumor\")\n",
    "            elif prediction == 2:\n",
    "                 print(\"There is no tumor\")\n",
    "            elif prediction == 3:\n",
    "                 print(\"This is a pituitary tumor\") \n",
    "        except Exception as e:\n",
    "            print(\"There was an image error\")\n",
    "                \n",
    "    "
   ]
  },
  {
   "cell_type": "code",
   "execution_count": null,
   "id": "f58d1e15-3231-4734-af25-a1a7631ae66c",
   "metadata": {},
   "outputs": [],
   "source": [
    "testing_loop()"
   ]
  }
 ],
 "metadata": {
  "kernelspec": {
   "display_name": "tensor",
   "language": "python",
   "name": "tensor"
  },
  "language_info": {
   "codemirror_mode": {
    "name": "ipython",
    "version": 3
   },
   "file_extension": ".py",
   "mimetype": "text/x-python",
   "name": "python",
   "nbconvert_exporter": "python",
   "pygments_lexer": "ipython3",
   "version": "3.10.4"
  }
 },
 "nbformat": 4,
 "nbformat_minor": 5
}
